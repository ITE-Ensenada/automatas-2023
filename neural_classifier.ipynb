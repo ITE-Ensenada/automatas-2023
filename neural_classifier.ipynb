{
 "cells": [
  {
   "cell_type": "code",
   "execution_count": 9,
   "metadata": {},
   "outputs": [],
   "source": [
    "import tensorflow as tf\n",
    "from sklearn.model_selection import train_test_split\n",
    "from sklearn.preprocessing import LabelEncoder\n",
    "from tensorflow.keras.preprocessing.text import Tokenizer\n",
    "from tensorflow.keras.preprocessing.sequence import pad_sequences\n",
    "from proyecto.preguntas_ite import X, y"
   ]
  },
  {
   "cell_type": "code",
   "execution_count": 10,
   "metadata": {},
   "outputs": [],
   "source": [
    "# Label encoding\n",
    "label_encoder = LabelEncoder()\n",
    "y_encoded = label_encoder.fit_transform(y)\n",
    "\n",
    "# Tokenization and padding\n",
    "max_words = 1000 # TODO: calculate exact value\n",
    "tokenizer = Tokenizer(num_words=max_words, oov_token=\"<OOV>\")\n",
    "tokenizer.fit_on_texts(X)\n",
    "X_sequences = tokenizer.texts_to_sequences(X)\n",
    "X_padded = pad_sequences(X_sequences, padding='post')"
   ]
  },
  {
   "cell_type": "code",
   "execution_count": 20,
   "metadata": {},
   "outputs": [],
   "source": [
    "# Train-test split\n",
    "X_train, X_test, y_train, y_test = train_test_split(X_padded, y_encoded, test_size=0.2, random_state=42)\n",
    "\n",
    "# Model\n",
    "model = tf.keras.Sequential([\n",
    "    tf.keras.layers.Embedding(input_dim=max_words, output_dim=32, input_length=X_padded.shape[1]),\n",
    "    tf.keras.layers.Flatten(),\n",
    "    tf.keras.layers.Dense(64, activation='relu'),\n",
    "    tf.keras.layers.Dense(len(set(y_encoded)), activation='softmax')\n",
    "])\n",
    "\n",
    "model.compile(optimizer='adam', loss='sparse_categorical_crossentropy', metrics=['accuracy'])\n"
   ]
  },
  {
   "cell_type": "code",
   "execution_count": 23,
   "metadata": {},
   "outputs": [
    {
     "name": "stdout",
     "output_type": "stream",
     "text": [
      "Epoch 1/10\n",
      "1/1 [==============================] - 0s 89ms/step - loss: 0.9643 - accuracy: 0.7895 - val_loss: 1.0257 - val_accuracy: 0.8000\n",
      "Epoch 2/10\n",
      "1/1 [==============================] - 0s 37ms/step - loss: 0.9370 - accuracy: 0.7895 - val_loss: 1.0053 - val_accuracy: 0.8000\n",
      "Epoch 3/10\n",
      "1/1 [==============================] - 0s 40ms/step - loss: 0.9095 - accuracy: 0.7895 - val_loss: 0.9851 - val_accuracy: 0.8000\n",
      "Epoch 4/10\n",
      "1/1 [==============================] - 0s 37ms/step - loss: 0.8816 - accuracy: 0.7895 - val_loss: 0.9648 - val_accuracy: 0.8000\n",
      "Epoch 5/10\n",
      "1/1 [==============================] - 0s 39ms/step - loss: 0.8533 - accuracy: 0.7895 - val_loss: 0.9448 - val_accuracy: 0.8000\n",
      "Epoch 6/10\n",
      "1/1 [==============================] - 0s 37ms/step - loss: 0.8247 - accuracy: 0.8421 - val_loss: 0.9250 - val_accuracy: 0.8000\n",
      "Epoch 7/10\n",
      "1/1 [==============================] - 0s 36ms/step - loss: 0.7960 - accuracy: 0.8421 - val_loss: 0.9054 - val_accuracy: 0.8000\n",
      "Epoch 8/10\n",
      "1/1 [==============================] - 0s 38ms/step - loss: 0.7671 - accuracy: 0.8421 - val_loss: 0.8857 - val_accuracy: 0.8000\n",
      "Epoch 9/10\n",
      "1/1 [==============================] - 0s 38ms/step - loss: 0.7383 - accuracy: 0.8421 - val_loss: 0.8663 - val_accuracy: 0.8000\n",
      "Epoch 10/10\n",
      "1/1 [==============================] - 0s 36ms/step - loss: 0.7095 - accuracy: 0.8421 - val_loss: 0.8472 - val_accuracy: 0.8000\n"
     ]
    },
    {
     "data": {
      "text/plain": [
       "<keras.src.callbacks.History at 0x7f7c90dba140>"
      ]
     },
     "execution_count": 23,
     "metadata": {},
     "output_type": "execute_result"
    }
   ],
   "source": [
    "# Training\n",
    "model.fit(X_train, y_train, epochs=10, validation_data=(X_test, y_test))"
   ]
  },
  {
   "cell_type": "code",
   "execution_count": 27,
   "metadata": {},
   "outputs": [
    {
     "name": "stdout",
     "output_type": "stream",
     "text": [
      "1/1 [==============================] - 0s 27ms/step\n",
      "Predicted Labels: ['pronombres_interrogativos']\n"
     ]
    }
   ],
   "source": [
    "input_text = ['Donde puedo obtener información sobre las becas disponibles']\n",
    "\n",
    "# Tokenize and pad the input text\n",
    "input_sequences = tokenizer.texts_to_sequences(input_text)\n",
    "input_padded = pad_sequences(input_sequences, padding='post', maxlen=X_padded.shape[1])\n",
    "\n",
    "# Make predictions\n",
    "predictions = model.predict(input_padded)\n",
    "\n",
    "# Convert predictions back to labels\n",
    "predicted_labels = label_encoder.inverse_transform(predictions.argmax(axis=1))\n",
    "\n",
    "# Print the predicted labels\n",
    "print(\"Predicted Labels:\", predicted_labels)"
   ]
  }
 ],
 "metadata": {
  "kernelspec": {
   "display_name": "tbot",
   "language": "python",
   "name": "python3"
  },
  "language_info": {
   "codemirror_mode": {
    "name": "ipython",
    "version": 3
   },
   "file_extension": ".py",
   "mimetype": "text/x-python",
   "name": "python",
   "nbconvert_exporter": "python",
   "pygments_lexer": "ipython3",
   "version": "3.10.12"
  }
 },
 "nbformat": 4,
 "nbformat_minor": 2
}
