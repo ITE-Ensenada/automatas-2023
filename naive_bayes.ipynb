{
 "cells": [
  {
   "cell_type": "code",
   "execution_count": 49,
   "metadata": {},
   "outputs": [],
   "source": [
    "from sklearn.naive_bayes import MultinomialNB, CategoricalNB\n",
    "from sklearn.feature_extraction.text import CountVectorizer, TfidfVectorizer\n",
    "from sklearn.model_selection import train_test_split\n",
    "from sklearn.metrics import accuracy_score\n",
    "from proyecto.preguntas import preguntas\n",
    "import numpy as np\n",
    "from proyecto.preguntas2 import X, y"
   ]
  },
  {
   "cell_type": "markdown",
   "metadata": {},
   "source": [
    "Dataset loading"
   ]
  },
  {
   "cell_type": "code",
   "execution_count": 48,
   "metadata": {},
   "outputs": [
    {
     "data": {
      "text/plain": [
       "['¿Qué es lo que más te gusta de tu trabajo?',\n",
       " '¿Cuándo fue la última vez que viajaste?',\n",
       " '¿Dónde planeas pasar tus vacaciones este año?',\n",
       " '¿Quién es tu héroe y por qué?',\n",
       " '¿Por qué decidiste estudiar esa carrera?',\n",
       " '¿Cómo describirías tu personalidad en tres palabras?',\n",
       " '¿Cuánto tiempo dedicas a tus pasatiempos cada semana?',\n",
       " '¿Cuál es tu película favorita y por qué?',\n",
       " '¿Cuáles son tus metas a corto plazo?',\n",
       " '¿A quién admiras más en tu vida?',\n",
       " '¿Cuántos hermanos tienes?',\n",
       " '¿Qué te motivó a emprender ese proyecto?',\n",
       " '¿Cuándo fue la última vez que te sentiste realmente feliz?',\n",
       " '¿Dónde te ves en cinco años?',\n",
       " '¿Quién te inspira a ser mejor cada día?',\n",
       " '¿Por qué elegiste vivir en esa ciudad?',\n",
       " '¿Cómo manejas el estrés en tu vida diaria?',\n",
       " '¿Cuánto tiempo dedicas al ejercicio cada semana?',\n",
       " '¿Cuál es tu libro favorito y por qué?',\n",
       " '¿Cuáles son tus habilidades más fuertes en el trabajo?',\n",
       " '¿A quién llamarías primero en caso de emergencia?',\n",
       " '¿Cuándo fue la última vez que aprendiste algo nuevo?',\n",
       " '¿Dónde te gustaría viajar próximamente?',\n",
       " '¿Quién te ha influenciado más en tu carrera?',\n",
       " '¿Por qué escogiste esa especialización académica?',\n",
       " '¿Cómo te relajas después de un día agotador?',\n",
       " '¿Cuánto tiempo dedicas a la reflexión diaria?',\n",
       " '¿Cuál es tu comida favorita y por qué?',\n",
       " '¿Cuáles son tus logros más importantes hasta ahora?',\n",
       " '¿A quién le confiarías tu mayor secreto?',\n",
       " '¿Cuándo fue la última vez que te sentiste orgulloso de ti mismo?',\n",
       " '¿Dónde te gustaría vivir en el futuro?',\n",
       " '¿Quién te ha enseñado las lecciones más valiosas en la vida?',\n",
       " '¿Por qué decidiste seguir esa profesión?',\n",
       " '¿Cómo defines el éxito en tu vida?',\n",
       " '¿Cuánto tiempo pasas en las redes sociales cada día?',\n",
       " '¿Cuál es tu mayor miedo y por qué?',\n",
       " '¿A quién le agradeces más en tu vida?',\n",
       " '¿Cuándo fue la última vez que te sorprendiste a ti mismo?',\n",
       " '¿Dónde te ves jubilándote eventualmente?',\n",
       " '¿Quién es tu modelo a seguir en el ámbito laboral?',\n",
       " '¿Por qué crees que es importante mantener metas a largo plazo?',\n",
       " '¿Cómo defines la felicidad en tu vida?',\n",
       " '¿Cuánto tiempo pasas en actividades creativas cada semana?',\n",
       " '¿Cuál es tu mejor consejo para manejar el estrés?',\n",
       " '¿A quién admiras más en tu familia?',\n",
       " '¿Cuándo fue la última vez que te sentiste completamente relajado?',\n",
       " '¿Dónde encuentras inspiración cuando la necesitas?',\n",
       " '¿Quién te ha apoyado más en tus decisiones difíciles?',\n",
       " '¿Por qué crees que es importante seguir aprendiendo a lo largo de la vida?',\n",
       " \"¿Qué función realiza el módulo 'math' en Python?\",\n",
       " \"¿Cuántos elementos tiene la lista 'mi_lista'?\",\n",
       " '¿Cuál es la diferencia entre una tupla y una lista en Python?',\n",
       " \"¿Qué tipo de dato representa la variable 'mi_variable'?\",\n",
       " \"¿Cuándo se utiliza la instrucción 'elif' en una estructura condicional?\",\n",
       " \"¿Cuántos parámetros toma la función 'range()' en Python?\",\n",
       " \"¿Qué hace el método 'append()' en una lista?\",\n",
       " \"¿Cuál es el resultado de la expresión '5 ** 3'?\",\n",
       " \"¿Qué significa la sigla 'API' en programación?\",\n",
       " \"¿Cuántas veces se ejecutará este bucle 'for'?\",\n",
       " \"¿Cuál es la diferencia entre '==' y 'is' en Python?\",\n",
       " '¿Qué es un diccionario en Python?',\n",
       " \"¿Cuándo se utiliza la palabra clave 'self' en una clase?\",\n",
       " \"¿Cuál es la función de 'pip' en Python?\",\n",
       " \"¿Qué hace la función 'len()' en Python?\",\n",
       " \"¿Qué tipo de bucle es 'while'?\",\n",
       " \"¿Cuántos elementos únicos hay en el conjunto 'mi_conjunto'?\",\n",
       " \"¿Cuál es la diferencia entre 'remove()' y 'discard()' en un conjunto?\",\n",
       " '¿Qué es una excepción en Python?',\n",
       " \"¿Cuántos argumentos toma la función 'format()' para formatear una cadena?\",\n",
       " \"¿Cuál es la función de '__init__' en una clase?\",\n",
       " \"¿Qué hace la función 'open()' en Python?\",\n",
       " \"¿Cuál es la diferencia entre 'extend()' y 'append()' en una lista?\",\n",
       " '¿Cuántos bits representa un byte en Python?',\n",
       " \"¿Qué significa la palabra clave 'pass' en Python?\",\n",
       " \"¿Cuál es el propósito del método 'pop()' en una lista?\",\n",
       " '¿Qué es la recursividad en programación?',\n",
       " '¿Cuál es la diferencia entre una función y un método en Python?',\n",
       " \"¿Cuántas veces se ejecuta el código dentro de un bucle 'do-while'?\",\n",
       " \"¿Qué hace la función 'input()' en Python?\",\n",
       " '¿Cuántos elementos tiene una cadena de texto vacía?',\n",
       " \"¿Qué significa 'PEP' en la comunidad de Python?\",\n",
       " \"¿Cuál es la función de 'with' en Python?\",\n",
       " '¿Qué es la comprensión de listas en Python?',\n",
       " '¿Cuántos elementos hay en la intersección de dos conjuntos?',\n",
       " \"¿Cuál es la diferencia entre 'sort()' y 'sorted()' en Python?\",\n",
       " '¿Qué es la indexación negativa en una lista?',\n",
       " \"¿Cuál es el resultado de la operación '3 // 2'?\",\n",
       " \"¿Qué hace la función 'strip()' en una cadena de texto?\",\n",
       " \"¿Cuántos argumentos toma la función 'print()' por defecto?\",\n",
       " \"¿Cuál es el propósito de la palabra clave 'global' en Python?\",\n",
       " \"¿Qué significa 'Django' en el contexto de Python?\",\n",
       " '¿Cuántos elementos puede contener una tupla?',\n",
       " '¿Cuál es la diferencia entre una variable local y una variable global?',\n",
       " '¿Qué es la herencia en programación orientada a objetos?',\n",
       " '¿Cuántos elementos puede tener un diccionario en Python?',\n",
       " \"¿Cuál es la función de '__main__' en un script de Python?\",\n",
       " '¿Qué es un generador en Python?',\n",
       " \"¿Cuál es la diferencia entre 'continue' y 'break' en un bucle?\",\n",
       " \"¿Qué significa la palabra clave 'lambda' en Python?\",\n",
       " '¿Cómo estás?',\n",
       " '¿Dónde vives?',\n",
       " '¿Cuándo fue la última vez que viajaste?',\n",
       " '¿Por qué estás aquí?',\n",
       " '¿Qué hiciste ayer?',\n",
       " '¿Cuántos hermanos tienes?',\n",
       " '¿Cuál es tu película favorita?',\n",
       " '¿Con quién fuiste al cine?',\n",
       " '¿De dónde eres?',\n",
       " '¿Hasta cuándo te quedarás?',\n",
       " '¿En qué año naciste?',\n",
       " '¿A qué hora llegaste?',\n",
       " '¿Cuánto tiempo llevas trabajando aquí?',\n",
       " '¿Por cuánto tiempo has conocido a tu mejor amigo?',\n",
       " '¿De qué color es tu coche?',\n",
       " '¿Cuántas veces has visitado ese lugar?',\n",
       " '¿Con quién fuiste a la fiesta?',\n",
       " '¿Por qué elegiste esa carrera?',\n",
       " '¿Cómo aprendiste a programar?',\n",
       " '¿Dónde planeas pasar tus vacaciones?',\n",
       " '¿Cuándo comenzaste a estudiar inglés?',\n",
       " '¿Por qué decidiste mudarte?',\n",
       " '¿Cuál es tu comida favorita?',\n",
       " '¿Cómo conociste a tu pareja?',\n",
       " '¿En qué país te gustaría vivir?',\n",
       " '¿Cuánto tiempo pasas en las redes sociales a diario?',\n",
       " '¿Qué harías si ganaras la lotería?',\n",
       " '¿Cuándo fue la última vez que te sentiste realmente emocionado?',\n",
       " '¿Por qué te interesa la inteligencia artificial?',\n",
       " '¿Cómo manejas el estrés?',\n",
       " '¿Cuántas horas duermes cada noche?',\n",
       " '¿Dónde te ves en cinco años?',\n",
       " '¿Por qué decidiste aprender a programar?',\n",
       " '¿Cuál es tu libro favorito?',\n",
       " '¿Con quién te gustaría tener una cena?',\n",
       " '¿Cómo te relajas después de un día agotador?',\n",
       " '¿Cuánto tiempo dedicas a hacer ejercicio?',\n",
       " '¿Qué te motivó a comenzar tu propio negocio?',\n",
       " '¿Cuándo fue la última vez que te reíste tanto que lloraste?',\n",
       " '¿Dónde te gustaría viajar en el futuro?',\n",
       " '¿Cuántas horas al día pasas frente a la computadora?',\n",
       " '¿Por qué te apasiona lo que haces?',\n",
       " '¿Cómo defines el éxito?',\n",
       " '¿Cuántos idiomas hablas?',\n",
       " '¿Dónde conociste a tu mejor amigo?',\n",
       " '¿Cuándo fue la última vez que te desafiaste a ti mismo?',\n",
       " '¿Por qué elegiste ese hobby?',\n",
       " '¿Cómo te mantienes organizado en tu vida diaria?',\n",
       " '¿Cuánto tiempo dedicas a aprender cosas nuevas?',\n",
       " '¿Qué te hace sentir agradecido hoy?']"
      ]
     },
     "execution_count": 48,
     "metadata": {},
     "output_type": "execute_result"
    }
   ],
   "source": [
    "flattened_questions = [\"\".join(question) for question_set in preguntas for question in question_set]\n",
    "labels = [\"Class1\"] * len(preguntas[0])\\\n",
    "        + [\"Class2\"] * len(preguntas[1])\\\n",
    "        + [\"Class3\"] * len(preguntas[2])\n",
    "X_train, X_test, y_train, y_test = train_test_split(flattened_questions, labels, test_size=0.2)\n",
    "flattened_questions"
   ]
  },
  {
   "cell_type": "markdown",
   "metadata": {},
   "source": [
    "Vectorization"
   ]
  },
  {
   "cell_type": "code",
   "execution_count": 41,
   "metadata": {},
   "outputs": [],
   "source": [
    "vectorizer = CountVectorizer()\n",
    "vectorizer.fit_transform(X_train)\n",
    "\n",
    "X_train_vectorized = vectorizer.fit_transform(X_train)\n",
    "X_test_vectorized = vectorizer.transform(X_test)\n"
   ]
  },
  {
   "cell_type": "markdown",
   "metadata": {},
   "source": [
    "Classifier instance and train"
   ]
  },
  {
   "cell_type": "code",
   "execution_count": 42,
   "metadata": {},
   "outputs": [
    {
     "data": {
      "text/html": [
       "<style>#sk-container-id-7 {color: black;}#sk-container-id-7 pre{padding: 0;}#sk-container-id-7 div.sk-toggleable {background-color: white;}#sk-container-id-7 label.sk-toggleable__label {cursor: pointer;display: block;width: 100%;margin-bottom: 0;padding: 0.3em;box-sizing: border-box;text-align: center;}#sk-container-id-7 label.sk-toggleable__label-arrow:before {content: \"▸\";float: left;margin-right: 0.25em;color: #696969;}#sk-container-id-7 label.sk-toggleable__label-arrow:hover:before {color: black;}#sk-container-id-7 div.sk-estimator:hover label.sk-toggleable__label-arrow:before {color: black;}#sk-container-id-7 div.sk-toggleable__content {max-height: 0;max-width: 0;overflow: hidden;text-align: left;background-color: #f0f8ff;}#sk-container-id-7 div.sk-toggleable__content pre {margin: 0.2em;color: black;border-radius: 0.25em;background-color: #f0f8ff;}#sk-container-id-7 input.sk-toggleable__control:checked~div.sk-toggleable__content {max-height: 200px;max-width: 100%;overflow: auto;}#sk-container-id-7 input.sk-toggleable__control:checked~label.sk-toggleable__label-arrow:before {content: \"▾\";}#sk-container-id-7 div.sk-estimator input.sk-toggleable__control:checked~label.sk-toggleable__label {background-color: #d4ebff;}#sk-container-id-7 div.sk-label input.sk-toggleable__control:checked~label.sk-toggleable__label {background-color: #d4ebff;}#sk-container-id-7 input.sk-hidden--visually {border: 0;clip: rect(1px 1px 1px 1px);clip: rect(1px, 1px, 1px, 1px);height: 1px;margin: -1px;overflow: hidden;padding: 0;position: absolute;width: 1px;}#sk-container-id-7 div.sk-estimator {font-family: monospace;background-color: #f0f8ff;border: 1px dotted black;border-radius: 0.25em;box-sizing: border-box;margin-bottom: 0.5em;}#sk-container-id-7 div.sk-estimator:hover {background-color: #d4ebff;}#sk-container-id-7 div.sk-parallel-item::after {content: \"\";width: 100%;border-bottom: 1px solid gray;flex-grow: 1;}#sk-container-id-7 div.sk-label:hover label.sk-toggleable__label {background-color: #d4ebff;}#sk-container-id-7 div.sk-serial::before {content: \"\";position: absolute;border-left: 1px solid gray;box-sizing: border-box;top: 0;bottom: 0;left: 50%;z-index: 0;}#sk-container-id-7 div.sk-serial {display: flex;flex-direction: column;align-items: center;background-color: white;padding-right: 0.2em;padding-left: 0.2em;position: relative;}#sk-container-id-7 div.sk-item {position: relative;z-index: 1;}#sk-container-id-7 div.sk-parallel {display: flex;align-items: stretch;justify-content: center;background-color: white;position: relative;}#sk-container-id-7 div.sk-item::before, #sk-container-id-7 div.sk-parallel-item::before {content: \"\";position: absolute;border-left: 1px solid gray;box-sizing: border-box;top: 0;bottom: 0;left: 50%;z-index: -1;}#sk-container-id-7 div.sk-parallel-item {display: flex;flex-direction: column;z-index: 1;position: relative;background-color: white;}#sk-container-id-7 div.sk-parallel-item:first-child::after {align-self: flex-end;width: 50%;}#sk-container-id-7 div.sk-parallel-item:last-child::after {align-self: flex-start;width: 50%;}#sk-container-id-7 div.sk-parallel-item:only-child::after {width: 0;}#sk-container-id-7 div.sk-dashed-wrapped {border: 1px dashed gray;margin: 0 0.4em 0.5em 0.4em;box-sizing: border-box;padding-bottom: 0.4em;background-color: white;}#sk-container-id-7 div.sk-label label {font-family: monospace;font-weight: bold;display: inline-block;line-height: 1.2em;}#sk-container-id-7 div.sk-label-container {text-align: center;}#sk-container-id-7 div.sk-container {/* jupyter's `normalize.less` sets `[hidden] { display: none; }` but bootstrap.min.css set `[hidden] { display: none !important; }` so we also need the `!important` here to be able to override the default hidden behavior on the sphinx rendered scikit-learn.org. See: https://github.com/scikit-learn/scikit-learn/issues/21755 */display: inline-block !important;position: relative;}#sk-container-id-7 div.sk-text-repr-fallback {display: none;}</style><div id=\"sk-container-id-7\" class=\"sk-top-container\"><div class=\"sk-text-repr-fallback\"><pre>MultinomialNB()</pre><b>In a Jupyter environment, please rerun this cell to show the HTML representation or trust the notebook. <br />On GitHub, the HTML representation is unable to render, please try loading this page with nbviewer.org.</b></div><div class=\"sk-container\" hidden><div class=\"sk-item\"><div class=\"sk-estimator sk-toggleable\"><input class=\"sk-toggleable__control sk-hidden--visually\" id=\"sk-estimator-id-7\" type=\"checkbox\" checked><label for=\"sk-estimator-id-7\" class=\"sk-toggleable__label sk-toggleable__label-arrow\">MultinomialNB</label><div class=\"sk-toggleable__content\"><pre>MultinomialNB()</pre></div></div></div></div></div>"
      ],
      "text/plain": [
       "MultinomialNB()"
      ]
     },
     "execution_count": 42,
     "metadata": {},
     "output_type": "execute_result"
    }
   ],
   "source": [
    "clf = MultinomialNB()\n",
    "clf.fit(X_train_vectorized, y_train)"
   ]
  },
  {
   "cell_type": "markdown",
   "metadata": {},
   "source": [
    "Testing"
   ]
  },
  {
   "cell_type": "code",
   "execution_count": 43,
   "metadata": {},
   "outputs": [
    {
     "name": "stdout",
     "output_type": "stream",
     "text": [
      "Accuracy: 0.63333\n"
     ]
    }
   ],
   "source": [
    "predictions = clf.predict(X_test_vectorized)\n",
    "\n",
    "accuracy = accuracy_score(y_test, predictions)\n",
    "print(f\"Accuracy: {accuracy:.5f}\")"
   ]
  },
  {
   "cell_type": "markdown",
   "metadata": {},
   "source": [
    "Custom testing"
   ]
  },
  {
   "cell_type": "code",
   "execution_count": 44,
   "metadata": {},
   "outputs": [
    {
     "name": "stdout",
     "output_type": "stream",
     "text": [
      "Prediction for the single sentence: Class1\n"
     ]
    }
   ],
   "source": [
    "test_string = [\"cual es tu comida favorita\"]\n",
    "text_vectorized = vectorizer.transform(test_string)\n",
    "\n",
    "# Make predictions\n",
    "prediction_single_sentence = clf.predict(text_vectorized)\n",
    "print(f\"Prediction for the single sentence: {prediction_single_sentence[0]}\")"
   ]
  },
  {
   "cell_type": "markdown",
   "metadata": {},
   "source": [
    "Model save"
   ]
  },
  {
   "cell_type": "code",
   "execution_count": 45,
   "metadata": {},
   "outputs": [],
   "source": [
    "import pickle"
   ]
  },
  {
   "cell_type": "code",
   "execution_count": 46,
   "metadata": {},
   "outputs": [],
   "source": [
    "with open(\"naivebayes.pkl\", \"wb\") as model_file:\n",
    "    pickle.dump(clf, model_file)"
   ]
  }
 ],
 "metadata": {
  "kernelspec": {
   "display_name": "tbot",
   "language": "python",
   "name": "python3"
  },
  "language_info": {
   "codemirror_mode": {
    "name": "ipython",
    "version": 3
   },
   "file_extension": ".py",
   "mimetype": "text/x-python",
   "name": "python",
   "nbconvert_exporter": "python",
   "pygments_lexer": "ipython3",
   "version": "3.10.12"
  }
 },
 "nbformat": 4,
 "nbformat_minor": 2
}
