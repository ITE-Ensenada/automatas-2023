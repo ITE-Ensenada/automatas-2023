{
 "cells": [
  {
   "cell_type": "code",
   "execution_count": 2,
   "metadata": {},
   "outputs": [
    {
     "name": "stderr",
     "output_type": "stream",
     "text": [
      "2023-12-01 04:47:37.065390: I external/local_tsl/tsl/cuda/cudart_stub.cc:31] Could not find cuda drivers on your machine, GPU will not be used.\n",
      "2023-12-01 04:47:37.130126: E external/local_xla/xla/stream_executor/cuda/cuda_dnn.cc:9261] Unable to register cuDNN factory: Attempting to register factory for plugin cuDNN when one has already been registered\n",
      "2023-12-01 04:47:37.130171: E external/local_xla/xla/stream_executor/cuda/cuda_fft.cc:607] Unable to register cuFFT factory: Attempting to register factory for plugin cuFFT when one has already been registered\n",
      "2023-12-01 04:47:37.131681: E external/local_xla/xla/stream_executor/cuda/cuda_blas.cc:1515] Unable to register cuBLAS factory: Attempting to register factory for plugin cuBLAS when one has already been registered\n",
      "2023-12-01 04:47:37.141232: I external/local_tsl/tsl/cuda/cudart_stub.cc:31] Could not find cuda drivers on your machine, GPU will not be used.\n",
      "2023-12-01 04:47:37.141881: I tensorflow/core/platform/cpu_feature_guard.cc:182] This TensorFlow binary is optimized to use available CPU instructions in performance-critical operations.\n",
      "To enable the following instructions: AVX2 FMA, in other operations, rebuild TensorFlow with the appropriate compiler flags.\n",
      "2023-12-01 04:47:38.458946: W tensorflow/compiler/tf2tensorrt/utils/py_utils.cc:38] TF-TRT Warning: Could not find TensorRT\n"
     ]
    }
   ],
   "source": [
    "import tensorflow as tf\n",
    "from sklearn.model_selection import train_test_split\n",
    "from sklearn.preprocessing import LabelEncoder\n",
    "from tensorflow.keras.preprocessing.text import Tokenizer\n",
    "from tensorflow.keras.preprocessing.sequence import pad_sequences\n",
    "from proyecto.preguntas_ite import X, y"
   ]
  },
  {
   "cell_type": "code",
   "execution_count": 3,
   "metadata": {},
   "outputs": [],
   "source": [
    "# Label encoding\n",
    "label_encoder = LabelEncoder()\n",
    "y_encoded = label_encoder.fit_transform(y)\n",
    "\n",
    "# Tokenization and padding\n",
    "max_words = 1000  # or choose based on your vocabulary size\n",
    "tokenizer = Tokenizer(num_words=max_words, oov_token=\"<OOV>\")\n",
    "tokenizer.fit_on_texts(X)\n",
    "X_sequences = tokenizer.texts_to_sequences(X)\n",
    "X_padded = pad_sequences(X_sequences, padding='post')"
   ]
  },
  {
   "cell_type": "code",
   "execution_count": 4,
   "metadata": {},
   "outputs": [
    {
     "name": "stderr",
     "output_type": "stream",
     "text": [
      "2023-12-01 04:47:40.563801: E external/local_xla/xla/stream_executor/cuda/cuda_driver.cc:274] failed call to cuInit: CUDA_ERROR_NO_DEVICE: no CUDA-capable device is detected\n"
     ]
    }
   ],
   "source": [
    "# Train-test split\n",
    "X_train, X_test, y_train, y_test = train_test_split(X_padded, y_encoded, test_size=0.2, random_state=42)\n",
    "\n",
    "# Model\n",
    "model = tf.keras.Sequential([\n",
    "    tf.keras.layers.Embedding(input_dim=max_words, output_dim=32, input_length=X_padded.shape[1]),\n",
    "    tf.keras.layers.Flatten(),\n",
    "    tf.keras.layers.Dense(64, activation='relu'),\n",
    "    tf.keras.layers.Dense(len(set(y_encoded)), activation='softmax')\n",
    "])\n",
    "\n",
    "model.compile(optimizer='adam', loss='sparse_categorical_crossentropy', metrics=['accuracy'])\n"
   ]
  },
  {
   "cell_type": "code",
   "execution_count": 5,
   "metadata": {},
   "outputs": [
    {
     "name": "stdout",
     "output_type": "stream",
     "text": [
      "Epoch 1/10\n",
      "1/1 [==============================] - 1s 879ms/step - loss: 1.3899 - accuracy: 0.3158 - val_loss: 1.3625 - val_accuracy: 0.4000\n",
      "Epoch 2/10\n",
      "1/1 [==============================] - 0s 39ms/step - loss: 1.3700 - accuracy: 0.6316 - val_loss: 1.3514 - val_accuracy: 0.8000\n",
      "Epoch 3/10\n",
      "1/1 [==============================] - 0s 40ms/step - loss: 1.3517 - accuracy: 0.6842 - val_loss: 1.3405 - val_accuracy: 0.8000\n",
      "Epoch 4/10\n",
      "1/1 [==============================] - 0s 39ms/step - loss: 1.3344 - accuracy: 0.8421 - val_loss: 1.3294 - val_accuracy: 0.8000\n",
      "Epoch 5/10\n",
      "1/1 [==============================] - 0s 39ms/step - loss: 1.3176 - accuracy: 0.8421 - val_loss: 1.3182 - val_accuracy: 0.8000\n",
      "Epoch 6/10\n",
      "1/1 [==============================] - 0s 40ms/step - loss: 1.3019 - accuracy: 0.8421 - val_loss: 1.3067 - val_accuracy: 0.8000\n",
      "Epoch 7/10\n",
      "1/1 [==============================] - 0s 40ms/step - loss: 1.2863 - accuracy: 0.8421 - val_loss: 1.2950 - val_accuracy: 0.8000\n",
      "Epoch 8/10\n",
      "1/1 [==============================] - 0s 39ms/step - loss: 1.2702 - accuracy: 0.8421 - val_loss: 1.2830 - val_accuracy: 0.8000\n",
      "Epoch 9/10\n",
      "1/1 [==============================] - 0s 41ms/step - loss: 1.2535 - accuracy: 0.8421 - val_loss: 1.2705 - val_accuracy: 0.8000\n",
      "Epoch 10/10\n",
      "1/1 [==============================] - 0s 40ms/step - loss: 1.2366 - accuracy: 0.8421 - val_loss: 1.2572 - val_accuracy: 0.8000\n"
     ]
    },
    {
     "data": {
      "text/plain": [
       "<keras.src.callbacks.History at 0x7f7d048f27d0>"
      ]
     },
     "execution_count": 5,
     "metadata": {},
     "output_type": "execute_result"
    }
   ],
   "source": [
    "# Training\n",
    "model.fit(X_train, y_train, epochs=10, validation_data=(X_test, y_test))"
   ]
  },
  {
   "cell_type": "code",
   "execution_count": 8,
   "metadata": {},
   "outputs": [
    {
     "name": "stdout",
     "output_type": "stream",
     "text": [
      "1/1 [==============================] - 0s 25ms/step\n",
      "Predicted Labels: ['pronombres_interrogativos']\n"
     ]
    }
   ],
   "source": [
    "input_text = ['Donde puedo obtener información sobre las becas disponibles']\n",
    "\n",
    "# Tokenize and pad the input text\n",
    "input_sequences = tokenizer.texts_to_sequences(input_text)\n",
    "input_padded = pad_sequences(input_sequences, padding='post', maxlen=X_padded.shape[1])\n",
    "\n",
    "# Make predictions\n",
    "predictions = model.predict(input_padded)\n",
    "\n",
    "# Convert predictions back to labels\n",
    "predicted_labels = label_encoder.inverse_transform(predictions.argmax(axis=1))\n",
    "\n",
    "# Print the predicted labels\n",
    "print(\"Predicted Labels:\", predicted_labels)"
   ]
  }
 ],
 "metadata": {
  "kernelspec": {
   "display_name": "tbot",
   "language": "python",
   "name": "python3"
  },
  "language_info": {
   "codemirror_mode": {
    "name": "ipython",
    "version": 3
   },
   "file_extension": ".py",
   "mimetype": "text/x-python",
   "name": "python",
   "nbconvert_exporter": "python",
   "pygments_lexer": "ipython3",
   "version": "3.10.12"
  }
 },
 "nbformat": 4,
 "nbformat_minor": 2
}
